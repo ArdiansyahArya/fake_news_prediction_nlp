{
 "cells": [
  {
   "cell_type": "code",
   "execution_count": 13,
   "metadata": {},
   "outputs": [
    {
     "data": {
      "text/plain": [
       "{'label_names': 'The news is most likely fake', 'result': '[[0]]'}"
      ]
     },
     "execution_count": 13,
     "metadata": {},
     "output_type": "execute_result"
    }
   ],
   "source": [
    "import requests\n",
    "\n",
    "URL ='http://192.168.100.5:5000/predict'\n",
    "new_data = {\n",
    "    'title' : 'Explainer: Can anything stop Trump from pardoning his family or even himself?',\n",
    "    'text' :   'President Donald Trump on Wednesday granted pardons to his former campaign chairman Paul Manafort and former adviser Roger Stone, sweeping away the most important convictions from U.S. Special Counsel Robert Mueller’s investigation into Russian meddling in the 2016 presidential campaign.',\n",
    "}\n",
    "\n",
    "response = requests.post(URL,json=new_data)\n",
    "response_json = response.json()\n",
    "response_json"
   ]
  },
  {
   "cell_type": "code",
   "execution_count": null,
   "metadata": {},
   "outputs": [],
   "source": []
  }
 ],
 "metadata": {
  "kernelspec": {
   "display_name": "Python 3.10.7 64-bit",
   "language": "python",
   "name": "python3"
  },
  "language_info": {
   "codemirror_mode": {
    "name": "ipython",
    "version": 3
   },
   "file_extension": ".py",
   "mimetype": "text/x-python",
   "name": "python",
   "nbconvert_exporter": "python",
   "pygments_lexer": "ipython3",
   "version": "3.10.7"
  },
  "orig_nbformat": 4,
  "vscode": {
   "interpreter": {
    "hash": "0e968b3e28a8eff326c0713b24a2703acb5b4eecbe24764f446bb5f80254562b"
   }
  }
 },
 "nbformat": 4,
 "nbformat_minor": 2
}
